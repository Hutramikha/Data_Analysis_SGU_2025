{
 "cells": [
  {
   "cell_type": "markdown",
   "id": "d142fc11",
   "metadata": {},
   "source": [
    "# PTDL - PYTHON PROGRAMMING"
   ]
  },
  {
   "cell_type": "markdown",
   "id": "46a2fe86",
   "metadata": {},
   "source": [
    "# ----------------------------------------------------------"
   ]
  },
  {
   "cell_type": "markdown",
   "id": "4d8ae9a1",
   "metadata": {},
   "source": [
    "## I/ Python Programming"
   ]
  },
  {
   "cell_type": "markdown",
   "id": "17514c4b",
   "metadata": {},
   "source": [
    "### Python Hello World"
   ]
  },
  {
   "cell_type": "code",
   "execution_count": 1,
   "id": "d83d321d",
   "metadata": {},
   "outputs": [
    {
     "name": "stdout",
     "output_type": "stream",
     "text": [
      "Hello World\n"
     ]
    }
   ],
   "source": [
    "print(\"Hello World\")"
   ]
  },
  {
   "cell_type": "markdown",
   "id": "b473ad06",
   "metadata": {},
   "source": [
    "### Python Syntax"
   ]
  },
  {
   "cell_type": "code",
   "execution_count": null,
   "id": "3054dd62",
   "metadata": {},
   "outputs": [
    {
     "name": "stdout",
     "output_type": "stream",
     "text": [
      "Pass\n"
     ]
    }
   ],
   "source": [
    "# example 1\n",
    "score = 80\n",
    "if score >=60 :\n",
    "    print(\"Pass\")"
   ]
  },
  {
   "cell_type": "code",
   "execution_count": null,
   "id": "0527a842",
   "metadata": {},
   "outputs": [
    {
     "name": "stdout",
     "output_type": "stream",
     "text": [
      "Fail\n"
     ]
    }
   ],
   "source": [
    "# example 2\n",
    "score = 50\n",
    "if score >=60 :\n",
    "    print(\"Pass\")\n",
    "else:\n",
    "    print(\"Fail\")"
   ]
  },
  {
   "cell_type": "markdown",
   "id": "3c090787",
   "metadata": {},
   "source": [
    "### Python Variables"
   ]
  },
  {
   "cell_type": "code",
   "execution_count": 5,
   "id": "cd79a7c5",
   "metadata": {},
   "outputs": [
    {
     "name": "stdout",
     "output_type": "stream",
     "text": [
      "2\n",
      "2.5\n",
      "Hello\n",
      "Hello\n",
      "Hello\n",
      "Hello\n",
      "3\n"
     ]
    }
   ],
   "source": [
    "# Python Variables\n",
    "x = 2\n",
    "print(x)\n",
    "\n",
    "price = 2.5\n",
    "print(price)\n",
    "\n",
    "word = 'Hello'\n",
    "print(word)\n",
    "\n",
    "word = 'Hello'\n",
    "print(word)\n",
    "\n",
    "word = \"Hello\"\n",
    "print(word)\n",
    "\n",
    "word = '''Hello'''\n",
    "print(word)\n",
    "\n",
    "x = 2\n",
    "y = x + 1\n",
    "print(y)"
   ]
  },
  {
   "cell_type": "markdown",
   "id": "fe8b70a8",
   "metadata": {},
   "source": [
    "### python_version()"
   ]
  },
  {
   "cell_type": "code",
   "execution_count": 6,
   "id": "86ab1459",
   "metadata": {},
   "outputs": [
    {
     "name": "stdout",
     "output_type": "stream",
     "text": [
      "Python Version: 3.13.5\n"
     ]
    }
   ],
   "source": [
    "from platform import python_version\n",
    "print(\"Python Version:\", python_version())"
   ]
  },
  {
   "cell_type": "markdown",
   "id": "c2996861",
   "metadata": {},
   "source": [
    "### Python Data Types"
   ]
  },
  {
   "cell_type": "code",
   "execution_count": 15,
   "id": "377a67ee",
   "metadata": {},
   "outputs": [
    {
     "name": "stdout",
     "output_type": "stream",
     "text": [
      "Hello World <class 'str'>\n",
      "2 <class 'int'>\n",
      "2.5 <class 'float'>\n",
      "7j <class 'complex'>\n",
      "----------------------\n",
      "['apple', 'banana', 'cherry'] <class 'list'>\n",
      "('apple', 'banana', 'cherry') <class 'tuple'>\n",
      "{'name': 'Tom', 'age': 20} <class 'dict'>\n",
      "{'apple', 'banana', 'cherry'} <class 'set'>\n",
      "frozenset({'apple', 'banana', 'cherry'}) <class 'frozenset'>\n",
      "----------------------\n",
      "True <class 'bool'>\n",
      "b'Hello' <class 'bytes'>\n",
      "bytearray(b'\\x00\\x00\\x00\\x00\\x00') <class 'bytearray'>\n",
      "<memory at 0x0000027CD0E0E8C0> <class 'memoryview'>\n",
      "None <class 'NoneType'>\n"
     ]
    }
   ],
   "source": [
    "x = \"Hello World\" #str\n",
    "print(x, type(x))\n",
    "\n",
    "x = 2 #int\n",
    "print(x, type(x))\n",
    "\n",
    "x = 2.5 #float\n",
    "print(x, type(x))\n",
    "\n",
    "x = 7j #complex\n",
    "print(x, type(x))\n",
    "\n",
    "print('----------------------')\n",
    "\n",
    "x = [\"apple\", \"banana\", \"cherry\"] #list\n",
    "print(x, type(x))\n",
    "\n",
    "x = (\"apple\", \"banana\", \"cherry\") #tuple\n",
    "print(x, type(x))\n",
    "\n",
    "x = range(6) #range\n",
    "\n",
    "x = {\"name\" : \"Tom\", \"age\" : 20} #dict\n",
    "print(x, type(x))\n",
    "\n",
    "x = {\"apple\", \"banana\", \"cherry\"} #set\n",
    "print(x, type(x))\n",
    "\n",
    "x = frozenset({\"apple\", \"banana\", \"cherry\"}) #frozenset\n",
    "print(x, type(x))\n",
    "\n",
    "print('----------------------')\n",
    "\n",
    "x = True #bool\n",
    "print(x, type(x))\n",
    "\n",
    "x = b\"Hello\" #bytes\n",
    "print(x, type(x))\n",
    "\n",
    "x = bytearray(5) #bytearray\n",
    "print(x, type(x))\n",
    "\n",
    "x = memoryview(bytes(5)) #memoryview\n",
    "print(x, type(x))\n",
    "\n",
    "x = None #NoneType\n",
    "print(x, type(x))"
   ]
  },
  {
   "cell_type": "markdown",
   "id": "12f80b21",
   "metadata": {},
   "source": [
    "### Python Casting"
   ]
  },
  {
   "cell_type": "code",
   "execution_count": 11,
   "id": "0a9813a9",
   "metadata": {},
   "outputs": [
    {
     "name": "stdout",
     "output_type": "stream",
     "text": [
      "3 <class 'str'>\n",
      "3 <class 'int'>\n",
      "3.0 <class 'float'>\n"
     ]
    }
   ],
   "source": [
    "x = str(3) # x will be '3'\n",
    "y = int(3) # y will be 3\n",
    "z = float(3) # z will be 3.0\n",
    "print(x, type(x))\n",
    "print(y, type(y))\n",
    "print(z, type(z))"
   ]
  },
  {
   "cell_type": "markdown",
   "id": "518f2888",
   "metadata": {},
   "source": [
    "### Python Numbers"
   ]
  },
  {
   "cell_type": "code",
   "execution_count": 12,
   "id": "3a247cfb",
   "metadata": {},
   "outputs": [
    {
     "name": "stdout",
     "output_type": "stream",
     "text": [
      "2 <class 'int'>\n",
      "3.4 <class 'float'>\n",
      "7j <class 'complex'>\n"
     ]
    }
   ],
   "source": [
    "x = 2 # int\n",
    "y = 3.4 # float\n",
    "z = 7j #complex\n",
    "print(x, type(x))\n",
    "print(y, type(y))\n",
    "print(z, type(z))"
   ]
  },
  {
   "cell_type": "markdown",
   "id": "a2c895e0",
   "metadata": {},
   "source": [
    "### Python Arithmetic Operators"
   ]
  },
  {
   "cell_type": "code",
   "execution_count": 16,
   "id": "2c9c04d1",
   "metadata": {},
   "outputs": [
    {
     "name": "stdout",
     "output_type": "stream",
     "text": [
      "7 + 2 = 9\n",
      "7 - 2 = 5\n",
      "7 * 2 = 14\n",
      "7 / 2 = 3.5\n",
      "7 // 2 = 3\n",
      "7 % 2 = 1\n",
      "7 ** 2 = 49\n"
     ]
    }
   ],
   "source": [
    "# Python Basic Operators\n",
    "print('7 + 2 =', 7 + 2)\n",
    "print('7 - 2 =', 7 - 2)\n",
    "print('7 * 2 =', 7 * 2)\n",
    "print('7 / 2 =', 7 / 2)\n",
    "print('7 // 2 =', 7 // 2)\n",
    "print('7 % 2 =', 7 % 2)\n",
    "print('7 ** 2 =', 7 ** 2)"
   ]
  },
  {
   "cell_type": "markdown",
   "id": "d156edf2",
   "metadata": {},
   "source": [
    "### Python Booleans"
   ]
  },
  {
   "cell_type": "code",
   "execution_count": 18,
   "id": "337e30c9",
   "metadata": {},
   "outputs": [
    {
     "name": "stdout",
     "output_type": "stream",
     "text": [
      "True\n",
      "False\n",
      "False\n",
      "True\n",
      "False\n",
      "True\n"
     ]
    }
   ],
   "source": [
    "# Python Booleans: True or False\n",
    "print(3 > 2)\n",
    "print(3 == 2)\n",
    "print(3 < 2)\n",
    "print(3 >= 2)\n",
    "print(3 <= 2)\n",
    "print(3 != 2)"
   ]
  },
  {
   "cell_type": "markdown",
   "id": "71110394",
   "metadata": {},
   "source": [
    "### Python BMI Calculator"
   ]
  },
  {
   "cell_type": "code",
   "execution_count": 19,
   "id": "7c017fdc",
   "metadata": {},
   "outputs": [
    {
     "name": "stdout",
     "output_type": "stream",
     "text": [
      "Your BMI is: 20.8\n"
     ]
    }
   ],
   "source": [
    "# BMI Calculator in Python\n",
    "height_cm = 170\n",
    "weight_kg = 60\n",
    "height_m = height_cm/100\n",
    "BMI = (weight_kg/(height_m**2))\n",
    "\n",
    "print(\"Your BMI is: \" + str(round(BMI,1)))"
   ]
  },
  {
   "cell_type": "markdown",
   "id": "07b241a0",
   "metadata": {},
   "source": [
    "### Future value of a specified principal amount, rate of interest and a number of years"
   ]
  },
  {
   "cell_type": "code",
   "execution_count": 20,
   "id": "d594289c",
   "metadata": {},
   "outputs": [
    {
     "name": "stdout",
     "output_type": "stream",
     "text": [
      "fv =  194.87\n"
     ]
    }
   ],
   "source": [
    "# How much is your $100 worth after 7 years?\n",
    "fv = 100 * 1.1 ** 7\n",
    "print('fv = ', round(fv, 2))"
   ]
  },
  {
   "cell_type": "markdown",
   "id": "97633a53",
   "metadata": {},
   "source": [
    "### Future Value"
   ]
  },
  {
   "cell_type": "code",
   "execution_count": null,
   "id": "b66e34e4",
   "metadata": {},
   "outputs": [
    {
     "name": "stdout",
     "output_type": "stream",
     "text": [
      "194.87\n"
     ]
    }
   ],
   "source": [
    "# example 1\n",
    "# Future Value\n",
    "pv = 100\n",
    "r = 0.1\n",
    "n = 7\n",
    "fv = pv * ((1 + (r)) ** n)\n",
    "print(round(fv, 2))"
   ]
  },
  {
   "cell_type": "code",
   "execution_count": null,
   "id": "7ed6c100",
   "metadata": {},
   "outputs": [
    {
     "name": "stdout",
     "output_type": "stream",
     "text": [
      "194.87\n"
     ]
    }
   ],
   "source": [
    "# example 2\n",
    "# Future Value\n",
    "amount = 100\n",
    "interest = 10 #10% = 0.01 * 10\n",
    "years = 7\n",
    "\n",
    "future_value = amount * ((1 + (0.01 * interest)) ** years)\n",
    "print(round(future_value, 2))"
   ]
  },
  {
   "cell_type": "markdown",
   "id": "4f8fc8f6",
   "metadata": {},
   "source": [
    "## II/ Python Data Structures"
   ]
  },
  {
   "cell_type": "markdown",
   "id": "a64bcd3c",
   "metadata": {},
   "source": [
    "### Python Data Types"
   ]
  },
  {
   "cell_type": "code",
   "execution_count": 30,
   "id": "a9be7198",
   "metadata": {},
   "outputs": [],
   "source": [
    "x = [\"apple\", \"banana\", \"cherry\"] #list\n",
    "x = (\"apple\", \"banana\", \"cherry\") #tuple\n",
    "x = {\"name\" : \"Tom\", \"age\" : 20} #dict\n",
    "x = {\"apple\", \"banana\", \"cherry\"} #set"
   ]
  },
  {
   "cell_type": "markdown",
   "id": "36e40d4f",
   "metadata": {},
   "source": [
    "### Lists []"
   ]
  },
  {
   "cell_type": "code",
   "execution_count": 24,
   "id": "5f4c8542",
   "metadata": {},
   "outputs": [
    {
     "name": "stdout",
     "output_type": "stream",
     "text": [
      "4\n",
      "60\n",
      "70\n",
      "90\n"
     ]
    }
   ],
   "source": [
    "x = [60, 70, 80, 90]\n",
    "print(len(x))\n",
    "print(x[0])\n",
    "print(x[1])\n",
    "print(x[-1])"
   ]
  },
  {
   "cell_type": "markdown",
   "id": "c4453d85",
   "metadata": {},
   "source": [
    "### Tuples ()"
   ]
  },
  {
   "cell_type": "code",
   "execution_count": 25,
   "id": "ad828136",
   "metadata": {},
   "outputs": [
    {
     "name": "stdout",
     "output_type": "stream",
     "text": [
      "10\n",
      "20\n",
      "30\n",
      "50\n"
     ]
    }
   ],
   "source": [
    "x = (10, 20, 30, 40, 50)\n",
    "print(x[0])\n",
    "print(x[1])\n",
    "print(x[2])\n",
    "print(x[-1])"
   ]
  },
  {
   "cell_type": "markdown",
   "id": "ae2d25eb",
   "metadata": {},
   "source": [
    "### Sets {}"
   ]
  },
  {
   "cell_type": "code",
   "execution_count": 27,
   "id": "907d0d95",
   "metadata": {},
   "outputs": [
    {
     "name": "stdout",
     "output_type": "stream",
     "text": [
      "True\n",
      "False\n",
      "True\n",
      "3\n",
      "3\n",
      "2\n"
     ]
    }
   ],
   "source": [
    "animals = {'cat', 'dog'}\n",
    "print('cat' in animals)\n",
    "print('fish' in animals)\n",
    "animals.add('fish')\n",
    "print('fish' in animals)\n",
    "print(len(animals))\n",
    "animals.add('cat')\n",
    "print(len(animals))\n",
    "animals.remove('cat')\n",
    "print(len(animals))"
   ]
  },
  {
   "cell_type": "markdown",
   "id": "3db090bf",
   "metadata": {},
   "source": [
    "### Dictionary {key : value}"
   ]
  },
  {
   "cell_type": "code",
   "execution_count": 28,
   "id": "b5791ee6",
   "metadata": {},
   "outputs": [
    {
     "name": "stdout",
     "output_type": "stream",
     "text": [
      "English\n",
      "French\n"
     ]
    }
   ],
   "source": [
    "# Python Dictionary\n",
    "# Key → Value\n",
    "# 'EN’ → 'English’\n",
    "# 'FR’ → 'French'\n",
    "\n",
    "k = { 'EN':'English', 'FR':'French' }\n",
    "\n",
    "print(k['EN'])\n",
    "print(k['FR'])"
   ]
  },
  {
   "cell_type": "markdown",
   "id": "befa6f9b",
   "metadata": {},
   "source": [
    "### Python Data Structures"
   ]
  },
  {
   "cell_type": "code",
   "execution_count": 29,
   "id": "dfa0792d",
   "metadata": {},
   "outputs": [],
   "source": [
    "fruits = [\"apple\", \"banana\", \"cherry\"] #lists []\n",
    "colors = (\"red\", \"green\", \"blue\") #tuples ()\n",
    "animals = {'cat', 'dog'} #sets {}\n",
    "person = {\"name\" : \"Tom\", \"age\" : 20} #dictionaries {}"
   ]
  },
  {
   "cell_type": "markdown",
   "id": "ebead15a",
   "metadata": {},
   "source": [
    "### Python for Finance Applications"
   ]
  },
  {
   "cell_type": "code",
   "execution_count": null,
   "id": "4aee8cfe",
   "metadata": {},
   "outputs": [
    {
     "name": "stdout",
     "output_type": "stream",
     "text": [
      "Account name: Cash Account number: 1001\n",
      "Account name: Accounts Receivable Account number: 1002\n",
      "Account name: Inventory Account number: 1003\n"
     ]
    }
   ],
   "source": [
    "# example 1\n",
    "# Python Tuples\n",
    "accounts = ((\"Cash\", 1001), (\"Accounts Receivable\", 1002),\n",
    "(\"Inventory\", 1003))\n",
    "for account in accounts:\n",
    "    print(\"Account name:\", account[0], \"Account number:\", account[1])"
   ]
  },
  {
   "cell_type": "code",
   "execution_count": null,
   "id": "dc725a1f",
   "metadata": {},
   "outputs": [
    {
     "name": "stdout",
     "output_type": "stream",
     "text": [
      "Account number 1004 is not in use.\n"
     ]
    }
   ],
   "source": [
    "# example 2\n",
    "# Python Sets\n",
    "account_numbers = {1001, 1002, 1003}\n",
    "new_account_number = 1004\n",
    "if new_account_number not in account_numbers:\n",
    "    print(\"Account number\", new_account_number, \"is not in use.\")"
   ]
  },
  {
   "cell_type": "code",
   "execution_count": null,
   "id": "404791b1",
   "metadata": {},
   "outputs": [
    {
     "name": "stdout",
     "output_type": "stream",
     "text": [
      "Account number: 1001\n",
      "Account name: Cash\n",
      "Account balance: 500.0\n",
      "Account type: Asset\n",
      "Account number: 1002\n",
      "Account name: Accounts Receivable\n",
      "Account balance: 1000.0\n",
      "Account type: Asset\n",
      "Account number: 2001\n",
      "Account name: Accounts Payable\n",
      "Account balance: 750.0\n",
      "Account type: Liability\n"
     ]
    }
   ],
   "source": [
    "# example 3\n",
    "# Python Dictionaries\n",
    "accounts = {\"1001\": {\"name\": \"Cash\", \"balance\": 500.00, \"type\": \"Asset\"},\n",
    "\"1002\": {\"name\": \"Accounts Receivable\", \"balance\": 1000.00, \"type\": \"Asset\"},\n",
    "\"2001\": {\"name\": \"Accounts Payable\", \"balance\": 750.00, \"type\": \"Liability\"}}\n",
    "for account_number, account_info in accounts.items():\n",
    "    print(\"Account number:\", account_number)\n",
    "    print(\"Account name:\", account_info[\"name\"])\n",
    "    print(\"Account balance:\", account_info[\"balance\"])\n",
    "    print(\"Account type:\", account_info[\"type\"])"
   ]
  },
  {
   "cell_type": "markdown",
   "id": "3ae96be8",
   "metadata": {},
   "source": [
    "## III/ Python Control Logic and Loops"
   ]
  },
  {
   "cell_type": "markdown",
   "id": "541eb409",
   "metadata": {},
   "source": [
    "### Python if"
   ]
  },
  {
   "cell_type": "code",
   "execution_count": null,
   "id": "fea436b3",
   "metadata": {},
   "outputs": [
    {
     "name": "stdout",
     "output_type": "stream",
     "text": [
      "Pass\n"
     ]
    }
   ],
   "source": [
    "# Python if\n",
    "score = 80\n",
    "\n",
    "if score >=60 :\n",
    "    print(\"Pass\")"
   ]
  },
  {
   "cell_type": "markdown",
   "id": "2f068112",
   "metadata": {},
   "source": [
    "### Python if else"
   ]
  },
  {
   "cell_type": "code",
   "execution_count": 40,
   "id": "c741dcca",
   "metadata": {},
   "outputs": [
    {
     "name": "stdout",
     "output_type": "stream",
     "text": [
      "Pass\n"
     ]
    }
   ],
   "source": [
    "# Python if else\n",
    "score = 80\n",
    "if score >=60 :\n",
    "    print(\"Pass\")\n",
    "else:\n",
    "    print(\"Fail\")"
   ]
  },
  {
   "cell_type": "markdown",
   "id": "92fe2598",
   "metadata": {},
   "source": [
    "### Python if elif else"
   ]
  },
  {
   "cell_type": "code",
   "execution_count": null,
   "id": "a23755e3",
   "metadata": {},
   "outputs": [
    {
     "name": "stdout",
     "output_type": "stream",
     "text": [
      "A\n"
     ]
    }
   ],
   "source": [
    "# example 1\n",
    "# Python if elif else\n",
    "score = 95\n",
    "if score >= 90 :\n",
    "    print(\"A\")\n",
    "elif score >=60 :\n",
    "    print(\"Pass\")\n",
    "else:\n",
    "    print(\"Fail\")"
   ]
  },
  {
   "cell_type": "code",
   "execution_count": null,
   "id": "c19676ad",
   "metadata": {},
   "outputs": [
    {
     "name": "stdout",
     "output_type": "stream",
     "text": [
      "A\n"
     ]
    }
   ],
   "source": [
    "# example 2\n",
    "# Python if elif else\n",
    "score = 90\n",
    "grade = \"\"\n",
    "if score >=90:\n",
    "    grade = \"A\"\n",
    "elif score >= 80:\n",
    "    grade = \"B\"\n",
    "elif score >= 70:\n",
    "    grade = \"C\"\n",
    "elif score >= 60:\n",
    "    grade = \"D\"\n",
    "else:\n",
    "    grade = \"E\"\n",
    "\n",
    "print(grade)"
   ]
  },
  {
   "cell_type": "markdown",
   "id": "1922d480",
   "metadata": {},
   "source": [
    "### Python for Loops"
   ]
  },
  {
   "cell_type": "code",
   "execution_count": null,
   "id": "b057e035",
   "metadata": {},
   "outputs": [
    {
     "name": "stdout",
     "output_type": "stream",
     "text": [
      "1\n",
      "2\n",
      "3\n",
      "4\n",
      "5\n"
     ]
    }
   ],
   "source": [
    "# example 1\n",
    "# Python for Loops\n",
    "for i in range(1,6):\n",
    "    print(i)"
   ]
  },
  {
   "cell_type": "code",
   "execution_count": null,
   "id": "2778656f",
   "metadata": {},
   "outputs": [
    {
     "name": "stdout",
     "output_type": "stream",
     "text": [
      "1  *  1  =  1\n",
      "1  *  2  =  2\n",
      "1  *  3  =  3\n",
      "1  *  4  =  4\n",
      "1  *  5  =  5\n",
      "1  *  6  =  6\n",
      "1  *  7  =  7\n",
      "1  *  8  =  8\n",
      "1  *  9  =  9\n",
      "2  *  1  =  2\n",
      "2  *  2  =  4\n",
      "2  *  3  =  6\n",
      "2  *  4  =  8\n",
      "2  *  5  =  10\n",
      "2  *  6  =  12\n",
      "2  *  7  =  14\n",
      "2  *  8  =  16\n",
      "2  *  9  =  18\n",
      "3  *  1  =  3\n",
      "3  *  2  =  6\n",
      "3  *  3  =  9\n",
      "3  *  4  =  12\n",
      "3  *  5  =  15\n",
      "3  *  6  =  18\n",
      "3  *  7  =  21\n",
      "3  *  8  =  24\n",
      "3  *  9  =  27\n",
      "4  *  1  =  4\n",
      "4  *  2  =  8\n",
      "4  *  3  =  12\n",
      "4  *  4  =  16\n",
      "4  *  5  =  20\n",
      "4  *  6  =  24\n",
      "4  *  7  =  28\n",
      "4  *  8  =  32\n",
      "4  *  9  =  36\n",
      "5  *  1  =  5\n",
      "5  *  2  =  10\n",
      "5  *  3  =  15\n",
      "5  *  4  =  20\n",
      "5  *  5  =  25\n",
      "5  *  6  =  30\n",
      "5  *  7  =  35\n",
      "5  *  8  =  40\n",
      "5  *  9  =  45\n",
      "6  *  1  =  6\n",
      "6  *  2  =  12\n",
      "6  *  3  =  18\n",
      "6  *  4  =  24\n",
      "6  *  5  =  30\n",
      "6  *  6  =  36\n",
      "6  *  7  =  42\n",
      "6  *  8  =  48\n",
      "6  *  9  =  54\n",
      "7  *  1  =  7\n",
      "7  *  2  =  14\n",
      "7  *  3  =  21\n",
      "7  *  4  =  28\n",
      "7  *  5  =  35\n",
      "7  *  6  =  42\n",
      "7  *  7  =  49\n",
      "7  *  8  =  56\n",
      "7  *  9  =  63\n",
      "8  *  1  =  8\n",
      "8  *  2  =  16\n",
      "8  *  3  =  24\n",
      "8  *  4  =  32\n",
      "8  *  5  =  40\n",
      "8  *  6  =  48\n",
      "8  *  7  =  56\n",
      "8  *  8  =  64\n",
      "8  *  9  =  72\n",
      "9  *  1  =  9\n",
      "9  *  2  =  18\n",
      "9  *  3  =  27\n",
      "9  *  4  =  36\n",
      "9  *  5  =  45\n",
      "9  *  6  =  54\n",
      "9  *  7  =  63\n",
      "9  *  8  =  72\n",
      "9  *  9  =  81\n"
     ]
    }
   ],
   "source": [
    "# example 2\n",
    "# Python for loops\n",
    "for i in range(1,10):\n",
    "    for j in range(1,10):\n",
    "        print(i, ' * ' , j , ' = ', i*j)"
   ]
  },
  {
   "cell_type": "markdown",
   "id": "d6866712",
   "metadata": {},
   "source": [
    "### Python while loops"
   ]
  },
  {
   "cell_type": "code",
   "execution_count": 46,
   "id": "4435b43c",
   "metadata": {},
   "outputs": [
    {
     "name": "stdout",
     "output_type": "stream",
     "text": [
      "10\n",
      "11\n",
      "12\n",
      "13\n",
      "14\n",
      "15\n",
      "16\n",
      "17\n",
      "18\n",
      "19\n"
     ]
    }
   ],
   "source": [
    "# while loops\n",
    "age = 10\n",
    "while age < 20:\n",
    "    print(age)\n",
    "    age = age + 1"
   ]
  },
  {
   "cell_type": "markdown",
   "id": "23b6b189",
   "metadata": {},
   "source": [
    "## IV/ Python Functions"
   ]
  },
  {
   "cell_type": "markdown",
   "id": "1467a4b2",
   "metadata": {},
   "source": [
    "### Python Function"
   ]
  },
  {
   "cell_type": "code",
   "execution_count": null,
   "id": "4816c0fa",
   "metadata": {},
   "outputs": [
    {
     "name": "stdout",
     "output_type": "stream",
     "text": [
      "194.87\n"
     ]
    }
   ],
   "source": [
    "# Python Function def\n",
    "# indentation for blocks. four spaces\n",
    "# def getfv() define get future value function\n",
    "def getfv(pv, r, n):\n",
    "    fv = pv * ((1 + (r)) ** n)\n",
    "    return fv\n",
    "\n",
    "fv = getfv(100, 0.1, 7)\n",
    "print(round(fv, 2))"
   ]
  },
  {
   "cell_type": "markdown",
   "id": "57e32846",
   "metadata": {},
   "source": [
    "## V/ Python Classes/Objects"
   ]
  },
  {
   "cell_type": "code",
   "execution_count": null,
   "id": "f5c2fc95",
   "metadata": {},
   "outputs": [
    {
     "name": "stdout",
     "output_type": "stream",
     "text": [
      "5\n"
     ]
    }
   ],
   "source": [
    "# example 1\n",
    "# Python class\n",
    "class MyClass:\n",
    "    x = 5\n",
    "\n",
    "c1 = MyClass()\n",
    "print(c1.x)"
   ]
  },
  {
   "cell_type": "code",
   "execution_count": null,
   "id": "56261f6f",
   "metadata": {},
   "outputs": [
    {
     "name": "stdout",
     "output_type": "stream",
     "text": [
      "Alan\n",
      "20\n"
     ]
    }
   ],
   "source": [
    "# example 2\n",
    "class Person:\n",
    "    def __init__(self, name, age):\n",
    "        self.name = name\n",
    "        self.age = age\n",
    "\n",
    "p1 = Person(\"Alan\", 20)\n",
    "\n",
    "print(p1.name)\n",
    "print(p1.age)"
   ]
  },
  {
   "cell_type": "code",
   "execution_count": 56,
   "id": "5ca8d6fa",
   "metadata": {},
   "outputs": [
    {
     "name": "stdout",
     "output_type": "stream",
     "text": [
      "Hello my name is Alan\n"
     ]
    }
   ],
   "source": [
    "# example 3\n",
    "class Person:\n",
    "    def __init__(self, name, age):\n",
    "        self.name = name\n",
    "        self.age = age\n",
    "\n",
    "    def myfunc(self):\n",
    "        print(\"Hello my name is \" + self.name)\n",
    "\n",
    "p1 = Person(\"Alan\", 20)\n",
    "p1.myfunc()"
   ]
  },
  {
   "cell_type": "code",
   "execution_count": 57,
   "id": "364ce335",
   "metadata": {},
   "outputs": [
    {
     "name": "stdout",
     "output_type": "stream",
     "text": [
      "Hello my name is Alan\n",
      "Alan\n",
      "20\n"
     ]
    }
   ],
   "source": [
    "# example 4\n",
    "class Person:\n",
    "    def __init__(self, name, age):\n",
    "        self.name = name\n",
    "        self.age = age\n",
    "\n",
    "    def myfunc(self):\n",
    "        print(\"Hello my name is \" + self.name)\n",
    "\n",
    "p1 = Person(\"Alan\", 20)\n",
    "p1.myfunc()\n",
    "print(p1.name)\n",
    "print(p1.age)"
   ]
  },
  {
   "cell_type": "code",
   "execution_count": 67,
   "id": "24ae8c3d",
   "metadata": {},
   "outputs": [],
   "source": [
    "# example 5 - 1\n",
    "class Vehicle:\n",
    "    name = \"\"\n",
    "    kind = \"car\"\n",
    "    color = \"\"\n",
    "    value = 100.00\n",
    "    def description(self):\n",
    "        desc_str = \"%s is a %s %s worth $%.2f.\" % (self.name, self.color, self.kind, self.value)\n",
    "        return desc_str"
   ]
  },
  {
   "cell_type": "code",
   "execution_count": 68,
   "id": "d6eebe1e",
   "metadata": {},
   "outputs": [
    {
     "name": "stdout",
     "output_type": "stream",
     "text": [
      "Fer is a red convertible worth $60000.00.\n",
      "Fer\n",
      "Jump is a blue van worth $10000.00.\n",
      "Jump\n"
     ]
    }
   ],
   "source": [
    "# example 5 - 2\n",
    "car1 = Vehicle()\n",
    "car1.name = \"Fer\"\n",
    "car1.color = \"red\"\n",
    "car1.kind = \"convertible\"\n",
    "car1.value = 60000.00\n",
    "\n",
    "car2 = Vehicle()\n",
    "car2.name = \"Jump\"\n",
    "car2.color = \"blue\"\n",
    "car2.kind = \"van\"\n",
    "car2.value = 10000.00\n",
    "\n",
    "print(car1.description())\n",
    "print(car1.name)\n",
    "print(car2.description())\n",
    "print(car2.name)"
   ]
  },
  {
   "cell_type": "markdown",
   "id": "670f7b8a",
   "metadata": {},
   "source": [
    "## VI/ Python Modules"
   ]
  },
  {
   "cell_type": "code",
   "execution_count": null,
   "id": "0a76e91c",
   "metadata": {},
   "outputs": [
    {
     "name": "stdout",
     "output_type": "stream",
     "text": [
      "Hello, Alan\n"
     ]
    }
   ],
   "source": [
    "# mymodule.py - import mymodule\n",
    "import module.mymodule\n",
    "module.mymodule.greeting(\"Alan\")"
   ]
  },
  {
   "cell_type": "markdown",
   "id": "b3715e2f",
   "metadata": {},
   "source": [
    "## VII/ Files and Exception Handling"
   ]
  },
  {
   "cell_type": "markdown",
   "id": "05ed5095",
   "metadata": {},
   "source": [
    "### Python Files (File Handling)"
   ]
  },
  {
   "cell_type": "code",
   "execution_count": 79,
   "id": "5ee39125",
   "metadata": {},
   "outputs": [
    {
     "name": "stdout",
     "output_type": "stream",
     "text": [
      "Hello World\n"
     ]
    }
   ],
   "source": [
    "# example 1\n",
    "f = open(\"file/myfile.txt\", \"w\")\n",
    "\n",
    "f.write(\"Hello World\")\n",
    "f.close()\n",
    "\n",
    "f = open(\"file/myfile.txt\", \"r\")\n",
    "\n",
    "text = f.read()\n",
    "print(text)\n",
    "f.close()"
   ]
  },
  {
   "cell_type": "code",
   "execution_count": 80,
   "id": "c110de42",
   "metadata": {},
   "outputs": [
    {
     "name": "stdout",
     "output_type": "stream",
     "text": [
      "Hello World\n"
     ]
    }
   ],
   "source": [
    "# example 2\n",
    "# Python File Input / Output\n",
    "with open('file/myfile.txt', 'w') as file:\n",
    "    file.write('Hello World')\n",
    "\n",
    "with open('file/myfile.txt', 'r') as file:\n",
    "    text = file.read()\n",
    "\n",
    "print(text)"
   ]
  },
  {
   "cell_type": "code",
   "execution_count": 81,
   "id": "3f0b982c",
   "metadata": {},
   "outputs": [
    {
     "name": "stdout",
     "output_type": "stream",
     "text": [
      "Hello World\n",
      "Python File IO\n"
     ]
    }
   ],
   "source": [
    "# example 3\n",
    "# Python File Input / Output\n",
    "with open('file/myfile.txt', 'w') as file:\n",
    "    file.write('Hello World\\nPython File IO')\n",
    "\n",
    "with open('file/myfile.txt', 'r') as file:\n",
    "    text = file.read()\n",
    "\n",
    "print(text)"
   ]
  },
  {
   "cell_type": "code",
   "execution_count": 82,
   "id": "0854d237",
   "metadata": {},
   "outputs": [
    {
     "name": "stdout",
     "output_type": "stream",
     "text": [
      "Hello World\n",
      "Python File IO\n",
      "New line\n"
     ]
    }
   ],
   "source": [
    "# example 4\n",
    "# Python File Input / Output\n",
    "with open('file/myfile.txt', 'a+') as file:\n",
    "    file.write('\\n' + 'New line')\n",
    "\n",
    "with open('file/myfile.txt', 'r') as file:\n",
    "    text = file.read()\n",
    "\n",
    "print(text)"
   ]
  },
  {
   "cell_type": "code",
   "execution_count": 86,
   "id": "7883027c",
   "metadata": {},
   "outputs": [
    {
     "name": "stdout",
     "output_type": "stream",
     "text": [
      " Volume in drive D is Khang\n",
      " Volume Serial Number is 048C-32C8\n",
      "\n",
      " Directory of d:\\Github\\Data_Analysis_SGU_2025\\Ph�n t�ch d? li?u\\practice\\lab2\n",
      "\n",
      "17/09/2025  06:47 PM    <DIR>          .\n",
      "16/09/2025  09:50 AM    <DIR>          ..\n",
      "17/09/2025  01:54 PM             7,053 4a.png\n",
      "17/09/2025  01:54 PM            21,535 4b.png\n",
      "16/09/2025  09:50 AM    <DIR>          ex\n",
      "17/09/2025  06:45 PM    <DIR>          file\n",
      "17/09/2025  02:21 PM    <DIR>          html\n",
      "16/09/2025  09:50 AM            28,224 lab2_03_ex_01.ipynb\n",
      "17/09/2025  02:31 PM           125,576 lab2_04_ex_02.ipynb\n",
      "17/09/2025  06:39 PM    <DIR>          module\n",
      "17/09/2025  02:20 PM            27,423 pi.png\n",
      "17/09/2025  06:57 PM            30,307 slide_PTDL-02-PythonProgramming_code.ipynb\n",
      "17/09/2025  05:41 PM               759 slide_PTDL-03-HienThiVaPhanTichDuLieuVoiPython_code.ipynb\n",
      "               7 File(s)        240,877 bytes\n",
      "               6 Dir(s)  92,960,337,920 bytes free\n"
     ]
    }
   ],
   "source": [
    "# !ls list files - Chỉ phù hợp với Unix/Linux\n",
    "# dùng lệnh !dir cho Windows\n",
    "\n",
    "!dir"
   ]
  },
  {
   "cell_type": "markdown",
   "id": "063fdc1d",
   "metadata": {},
   "source": [
    "### Python OS, IO, files, and Google Drive"
   ]
  },
  {
   "cell_type": "code",
   "execution_count": 87,
   "id": "832f7191",
   "metadata": {},
   "outputs": [
    {
     "name": "stdout",
     "output_type": "stream",
     "text": [
      "d:\\Github\\Data_Analysis_SGU_2025\\Phân tích dữ liệu\\practice\\lab2\n"
     ]
    }
   ],
   "source": [
    "import os\n",
    "\n",
    "cwd = os.getcwd()\n",
    "print(cwd)"
   ]
  },
  {
   "cell_type": "markdown",
   "id": "b92f7902",
   "metadata": {},
   "source": [
    "### os.listdir()"
   ]
  },
  {
   "cell_type": "code",
   "execution_count": 88,
   "id": "9780bc6e",
   "metadata": {},
   "outputs": [
    {
     "data": {
      "text/plain": [
       "['4a.png',\n",
       " '4b.png',\n",
       " 'ex',\n",
       " 'file',\n",
       " 'html',\n",
       " 'lab2_03_ex_01.ipynb',\n",
       " 'lab2_04_ex_02.ipynb',\n",
       " 'module',\n",
       " 'pi.png',\n",
       " 'slide_PTDL-02-PythonProgramming_code.ipynb',\n",
       " 'slide_PTDL-03-HienThiVaPhanTichDuLieuVoiPython_code.ipynb']"
      ]
     },
     "execution_count": 88,
     "metadata": {},
     "output_type": "execute_result"
    }
   ],
   "source": [
    "os.listdir(cwd)"
   ]
  },
  {
   "cell_type": "markdown",
   "id": "67bf43d9",
   "metadata": {},
   "source": [
    "### os.path.join()"
   ]
  },
  {
   "cell_type": "code",
   "execution_count": 97,
   "id": "643e07d3",
   "metadata": {},
   "outputs": [
    {
     "name": "stdout",
     "output_type": "stream",
     "text": [
      "d:\\Github\\Data_Analysis_SGU_2025\\Phân tích dữ liệu\\practice\\lab2\\file\n"
     ]
    },
    {
     "data": {
      "text/plain": [
       "['myfile.txt']"
      ]
     },
     "execution_count": 97,
     "metadata": {},
     "output_type": "execute_result"
    }
   ],
   "source": [
    "path = os.path.join(cwd,'file')\n",
    "\n",
    "print(path)\n",
    "os.listdir(path)"
   ]
  },
  {
   "cell_type": "markdown",
   "id": "702bb5aa",
   "metadata": {},
   "source": [
    "### from google.colab import files"
   ]
  },
  {
   "cell_type": "code",
   "execution_count": 98,
   "id": "5c0a70d9",
   "metadata": {},
   "outputs": [
    {
     "ename": "ModuleNotFoundError",
     "evalue": "No module named 'google.colab'",
     "output_type": "error",
     "traceback": [
      "\u001b[31m---------------------------------------------------------------------------\u001b[39m",
      "\u001b[31mModuleNotFoundError\u001b[39m                       Traceback (most recent call last)",
      "\u001b[36mCell\u001b[39m\u001b[36m \u001b[39m\u001b[32mIn[98]\u001b[39m\u001b[32m, line 1\u001b[39m\n\u001b[32m----> \u001b[39m\u001b[32m1\u001b[39m \u001b[38;5;28;01mfrom\u001b[39;00m\u001b[38;5;250m \u001b[39m\u001b[34;01mgoogle\u001b[39;00m\u001b[34;01m.\u001b[39;00m\u001b[34;01mcolab\u001b[39;00m\u001b[38;5;250m \u001b[39m\u001b[38;5;28;01mimport\u001b[39;00m files \n\u001b[32m      3\u001b[39m \u001b[38;5;28;01mwith\u001b[39;00m \u001b[38;5;28mopen\u001b[39m(\u001b[33m'\u001b[39m\u001b[33mio_file_myday.txt\u001b[39m\u001b[33m'\u001b[39m, \u001b[33m'\u001b[39m\u001b[33mw\u001b[39m\u001b[33m'\u001b[39m) \u001b[38;5;28;01mas\u001b[39;00m f:\n\u001b[32m      4\u001b[39m     f.write(\u001b[33m'\u001b[39m\u001b[33mGoogle Colab File Write Text some content Myday\u001b[39m\u001b[33m'\u001b[39m)\n",
      "\u001b[31mModuleNotFoundError\u001b[39m: No module named 'google.colab'"
     ]
    }
   ],
   "source": [
    "from google.colab import files \n",
    "\n",
    "with open('io_file_myday.txt', 'w') as f:\n",
    "    f.write('Google Colab File Write Text some content Myday')\n",
    "\n",
    "import time\n",
    "time.sleep(1) # time sleep 1 second\n",
    "\n",
    "files.download('io_file_myday.txt')\n",
    "print('downloaded')"
   ]
  }
 ],
 "metadata": {
  "kernelspec": {
   "display_name": "base",
   "language": "python",
   "name": "python3"
  },
  "language_info": {
   "codemirror_mode": {
    "name": "ipython",
    "version": 3
   },
   "file_extension": ".py",
   "mimetype": "text/x-python",
   "name": "python",
   "nbconvert_exporter": "python",
   "pygments_lexer": "ipython3",
   "version": "3.13.5"
  }
 },
 "nbformat": 4,
 "nbformat_minor": 5
}
